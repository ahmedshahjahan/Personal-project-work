{
 "cells": [
  {
   "cell_type": "code",
   "execution_count": null,
   "metadata": {},
   "outputs": [],
   "source": [
    "# List Comprehension\n",
    "import numpy as np\n",
    "list = [np.sqrt(x) for x in range(10)]\n",
    "print(list)"
   ]
  },
  {
   "cell_type": "code",
   "execution_count": null,
   "metadata": {},
   "outputs": [],
   "source": [
    "import numpy as np\n",
    "y=10\n",
    "list = [x+y for x in range(10)]\n",
    "arr=np.array(list)\n",
    "print(arr[0:5])"
   ]
  },
  {
   "cell_type": "code",
   "execution_count": null,
   "metadata": {},
   "outputs": [],
   "source": [
    "import numpy as np\n",
    "x = [[50, 3],[21, 15],[32, 80]]\n",
    "y = [10,10]\n",
    "np_x = np.array(x)\n",
    "np_y = np.array(y)\n",
    "print(np_x + np_y)"
   ]
  },
  {
   "cell_type": "code",
   "execution_count": null,
   "metadata": {},
   "outputs": [],
   "source": [
    "#fam=[x for x in range(0,10,2)]\n",
    "#fam=11\n",
    "#print(max(fam, 10))\n",
    "fam=[x for x in range(0,10,2)]\n",
    "print(max(fam))"
   ]
  },
  {
   "cell_type": "code",
   "execution_count": null,
   "metadata": {},
   "outputs": [],
   "source": [
    "import matplotlib.pyplot as plt\n",
    "x=[x for x in range(13)]\n",
    "y=[2,5,10,15,20,23,30,40,45,55,60,70,78]\n",
    "plt.plot(x,y)\n",
    "plt.show()\n",
    "print(y[x.index(3)])\n",
    "print(x[y.index(23)])\n"
   ]
  },
  {
   "cell_type": "code",
   "execution_count": 4,
   "metadata": {},
   "outputs": [
    {
     "name": "stdout",
     "output_type": "stream",
     "text": [
      "[2 4 5]\n",
      "3.6666666666666665\n"
     ]
    }
   ],
   "source": [
    "# creating dataframe from numpy array\n",
    "import numpy as np\n",
    "import pandas as pd\n",
    "table = np.array([[1,2,3,4],\n",
    "                  [3,4,5,6],\n",
    "                  [4,5,6,6]])\n",
    "#print(table)\n",
    "df = pd.DataFrame(table)\n",
    "section=table[:,1]\n",
    "print(section)\n",
    "print(np.mean(section))"
   ]
  },
  {
   "cell_type": "code",
   "execution_count": 6,
   "metadata": {},
   "outputs": [
    {
     "name": "stdout",
     "output_type": "stream",
     "text": [
      "       country pop_thou gdp_usd   curr\n",
      "first       BD   180000     1.5   taka\n",
      "second     IND  1300000     3.0  rupee\n",
      "third      PAK   120000     1.8  rupee\n"
     ]
    }
   ],
   "source": [
    "# creating dataframe from numpy array\n",
    "import numpy as np\n",
    "import pandas as pd\n",
    "table = np.array([['BD', 180000, 1.5, 'taka'],\n",
    "                  ['IND', 1300000, 3.0, 'rupee'], ['PAK', 120000, 1.8, 'rupee']])\n",
    "pd_frame = pd.DataFrame(table,columns=['country', 'pop_thou', 'gdp_usd', 'curr'],index=['first','second','third'])\n",
    "print(pd_frame)"
   ]
  },
  {
   "cell_type": "code",
   "execution_count": null,
   "metadata": {},
   "outputs": [],
   "source": [
    "# creating dataframe from list\n",
    "import pandas as pd\n",
    "table = [['BD', 180000, 1.5, 'taka'],['IND', 1300000, 3.0, 'rupee'], ['PAK', 120000, 1.8, 'rupee']]\n",
    "pd_frame = pd.DataFrame(table,columns=['country', 'pop_thou', 'gdp_usd', 'curr'],index=['first','second','third'])\n",
    "print(pd_frame)"
   ]
  },
  {
   "cell_type": "code",
   "execution_count": 22,
   "metadata": {},
   "outputs": [
    {
     "name": "stdout",
     "output_type": "stream",
     "text": [
      "       country   currency\n",
      "first       BD       taka\n",
      "second     IND  ind_rupee\n"
     ]
    }
   ],
   "source": [
    "# creating dataframe from dictionary\n",
    "import pandas as pd\n",
    "dict = {'country':['BD', 'IND', 'PAK'], \n",
    "        'pop_thou': [180000, 1300000, 120000], \n",
    "        'gdp_usd':[1.5, 3.0, 1.8],\n",
    "        'currency':['taka', 'ind_rupee', 'pak_rupee']}\n",
    "df = pd.DataFrame(dict)\n",
    "df.index=['first','second','third']\n",
    "#print(df[['country','pop_thou']])\n",
    "print(df.loc[['first','second'],['country','currency']])"
   ]
  }
 ],
 "metadata": {
  "kernelspec": {
   "display_name": "Python 3",
   "language": "python",
   "name": "python3"
  },
  "language_info": {
   "codemirror_mode": {
    "name": "ipython",
    "version": 3
   },
   "file_extension": ".py",
   "mimetype": "text/x-python",
   "name": "python",
   "nbconvert_exporter": "python",
   "pygments_lexer": "ipython3",
   "version": "3.8.5"
  }
 },
 "nbformat": 4,
 "nbformat_minor": 4
}
